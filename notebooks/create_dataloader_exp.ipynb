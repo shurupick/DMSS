{
 "cells": [
  {
   "cell_type": "code",
   "id": "initial_id",
   "metadata": {
    "collapsed": true,
    "jupyter": {
     "is_executing": true
    }
   },
   "source": [
    "from typing import Tuple\n",
    "\n",
    "from torch.utils.data import DataLoader, Dataset"
   ],
   "outputs": [],
   "execution_count": null
  },
  {
   "metadata": {},
   "cell_type": "code",
   "outputs": [],
   "execution_count": null,
   "source": [
    "class PolypDataset(Dataset):\n",
    "    def __init__(\n",
    "            self,\n",
    "            image_dir: str = None,\n",
    "            mask_dir: str = None,\n",
    "            transform=None,\n",
    "            mode: str = 'train'  # 'train', 'valid', 'test'\n",
    "    ):\n",
    "        pass\n",
    "\n",
    "    def __len__(self):\n",
    "        pass\n",
    "\n",
    "    def __getitem__(self, idx):\n",
    "        pass"
   ],
   "id": "a6e971caba41c2d5"
  },
  {
   "metadata": {},
   "cell_type": "code",
   "outputs": [],
   "execution_count": null,
   "source": [
    "def get_data_loaders(\n",
    "        data_dir: str = None,\n",
    "        transform=None,  # transforms.Compose([transforms.ToTensor()]) or None\n",
    "        batch_size: int = 16,\n",
    "        num_workers: int = 4\n",
    ") -> Tuple[DataLoader, DataLoader, DataLoader]:\n",
    "\n",
    "    Data = PolypDataset()\n",
    "\n",
    "    \"\"\"Returns a dataloader for the given dataset.\"\"\"\n",
    "    train_dataset = PolypDataset\n",
    "    valid_dataset = PolypDataset\n",
    "    test_dataset = PolypDataset\n",
    "\n",
    "    train_loader = DataLoader(train_dataset,\n",
    "                              batch_size=batch_size,\n",
    "                              shuffle=True,\n",
    "                              num_workers=num_workers)\n",
    "    valid_loader = DataLoader(valid_dataset,\n",
    "                              batch_size=batch_size,\n",
    "                              shuffle=False,\n",
    "                              num_workers= num_workers)\n",
    "\n",
    "    test_loader = DataLoader(test_dataset,\n",
    "                             batch_size=batch_size,\n",
    "                             shuffle=False,\n",
    "                             num_workers= num_workers)\n",
    "\n",
    "    return train_loader, valid_loader, test_loader"
   ],
   "id": "cbe4b3b3efa1875b"
  }
 ],
 "metadata": {
  "kernelspec": {
   "display_name": "Python 3",
   "language": "python",
   "name": "python3"
  },
  "language_info": {
   "codemirror_mode": {
    "name": "ipython",
    "version": 2
   },
   "file_extension": ".py",
   "mimetype": "text/x-python",
   "name": "python",
   "nbconvert_exporter": "python",
   "pygments_lexer": "ipython2",
   "version": "2.7.6"
  }
 },
 "nbformat": 4,
 "nbformat_minor": 5
}
